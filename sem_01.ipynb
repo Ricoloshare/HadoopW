{
 "cells": [
  {
   "cell_type": "markdown",
   "metadata": {},
   "source": [
    "# Домашнее задание0\n",
    "\n",
    "## URL:\n",
    "\n",
    "- https://www.dns-shop.ru/product/4e489f4faf9d3330/processor-intel-celeron-g3930-oem/characteristics/\n",
    "-Получить данные о продукте\"Характеристики Процессор Intel Celeron G3930 OEM\"\n",
    "\n",
    "\n",
    "- https://www.dns-shop.ru/product/84be09f917d53332/termopasta-arctic-cooling-mx-4-2019/characteristics/\n",
    "-Получить данные о продукте\"Характеристики Термопаста Arctic Cooling MX-4 (2019)\"\n",
    "\n",
    "\n",
    "### EXCEL легко получить данные\n"
   ]
  },
  {
   "cell_type": "code",
   "execution_count": 26,
   "metadata": {},
   "outputs": [
    {
     "name": "stdout",
     "output_type": "stream",
     "text": [
      "200\n",
      "[<tr><td class=\"table-part\" colspan=\"2\">Заводские данные</td></tr>, <tr><td><div class=\"dots\"><span> Гарантия </span></div></td><td><div id=\"pcv-9VsHqT\"> 12 мес.<!-- --></div></td></tr>, <tr><td><div class=\"dots\"><span> Страна-производитель <span data-characteristic-hint=\"Страна производитель может отличаться от заявленной\" data-characteristic-title=\"Страна-производитель\"></span></span></div></td><td><div id=\"pcv-LctF5x\"> Вьетнам<!-- --></div></td></tr>, <tr><td class=\"table-part\" colspan=\"2\">Общие параметры</td></tr>, <tr><td><div class=\"dots\"><span> Модель <span id=\"as-ccf6e64a1109c41abbfb7d9bb351d667\"></span></span></div></td><td><div id=\"pcv-yJmhDT\"> Intel Celeron G3930<!-- --></div></td></tr>, <tr><td><div class=\"dots\"><span> Поколение процессоров <span id=\"as-c3da72ebaf206a23ddd5800b365371c0\"></span></span></div></td><td><div id=\"pcv-Y67x52\"> Intel 6-е поколение<!-- --></div></td></tr>, <tr><td><div class=\"dots\"><span> Код производителя <span id=\"as-23e1482e02ef65a22a692b1918490efd\"></span></span></div></td><td><div id=\"pcv-ulW7nX\"> [CM8067703015717]<!-- --></div></td></tr>, <tr><td><div class=\"dots\"><span> Год релиза <span id=\"as-5a9a044f4c205e7fbb3e7c2df653b504\"></span></span></div></td><td><div id=\"pcv-Lz8el6\"> 2017<!-- --></div></td></tr>, <tr><td><div class=\"dots\"><span> Сокет <span id=\"as-c18d080c3dfa847243380e3081810c14\"></span></span></div></td><td><div id=\"pcv-MdCaYL\"> LGA 1151<!-- --></div></td></tr>, <tr><td><div class=\"dots\"><span> Система охлаждения в комплекте <span id=\"as-ae8a39710599da969e758de1d8fb1dbe\"></span></span></div></td><td><div id=\"pcv--iURvv\"> нет<!-- --></div></td></tr>, <tr><td class=\"table-part\" colspan=\"2\">Ядро и архитектура</td></tr>, <tr><td><div class=\"dots\"><span> Ядро <span id=\"as-1a6541fa85900dee67e077a0d9d63ed7\"></span></span></div></td><td><div id=\"pcv-msm5i4\"> Kaby Lake-S<!-- --></div></td></tr>, <tr><td><div class=\"dots\"><span> Техпроцесс <span id=\"as-9be2dd452a74e78d9815476def39a56f\"></span></span></div></td><td><div id=\"pcv-pKozFs\"> 14 нм<!-- --></div></td></tr>, <tr><td><div class=\"dots\"><span> Количество ядер <span id=\"as-80e0e031a7fcc83615a3890ae071f5dc\"></span></span></div></td><td><div id=\"pcv-IxDZq_\"> 2<!-- --></div></td></tr>, <tr><td><div class=\"dots\"><span> Максимальное число потоков <span id=\"as-1cd974759fdff15ea4bae54915fcef26\"></span></span></div></td><td><div id=\"pcv-WQ3rDG\"> 2<!-- --></div></td></tr>, <tr><td><div class=\"dots\"><span> Кэш L1 (инструкции) <span id=\"as-927809dd09519d5718d0408b7c898752\"></span></span></div></td><td><div id=\"pcv-Pua7gr\"> 64 КБ<!-- --></div></td></tr>, <tr><td><div class=\"dots\"><span> Кэш L1 (данные) <span id=\"as-1aa2901379d34b61c83e8fd1b93e1be2\"></span></span></div></td><td><div id=\"pcv-y68AZL\"> 64 КБ<!-- --></div></td></tr>, <tr><td><div class=\"dots\"><span> Объем кэша L2 <span id=\"as-5b1a90443e4a3169297cf183bd6408e8\"></span></span></div></td><td><div id=\"pcv-IkhI_Q\"> 512 КБ<!-- --></div></td></tr>, <tr><td><div class=\"dots\"><span> Объем кэша L3 <span id=\"as-437cb56d2d5348bd72383ac9d8704d23\"></span></span></div></td><td><div id=\"pcv-r04ths\"> 2 МБ<!-- --></div></td></tr>, <tr><td class=\"table-part\" colspan=\"2\">Частота и возможность разгона</td></tr>, <tr><td><div class=\"dots\"><span> Базовая частота процессора <span id=\"as-93bb752c421f1c9d9f864533eb41bbd5\"></span></span></div></td><td><div id=\"pcv-ULfSR9\"> 2900 МГц<!-- --></div></td></tr>, <tr><td><div class=\"dots\"><span> Максимальная частота в турбо режиме <span id=\"as-c2143d76844dba580fb7d8bcc6b14aa8\"></span></span></div></td><td><div id=\"pcv-V3kGz_\"> нет<!-- --></div></td></tr>, <tr><td><div class=\"dots\"><span> Множитель <span id=\"as-128fba0d4475a268570f0efa31350b22\"></span></span></div></td><td><div id=\"pcv-uzFXdb\"> 29<!-- --></div></td></tr>, <tr><td><div class=\"dots\"><span> Свободный множитель <span id=\"as-693e08dca98ccf5d12f3e3102920e0bd\"></span></span></div></td><td><div id=\"pcv-21e1Jv\"> нет<!-- --></div></td></tr>, <tr><td class=\"table-part\" colspan=\"2\">Параметры оперативной памяти</td></tr>, <tr><td><div class=\"dots\"><span> Тип памяти <span id=\"as-8c7e8fe4165b4bd6b5992aabc617268b\"></span></span></div></td><td><div id=\"pcv-hVvB82\"> DDR4, DDR3L<!-- --></div></td></tr>, <tr><td><div class=\"dots\"><span> Максимально поддерживаемый объем памяти <span id=\"as-8e7bfe96cbde5068ba869255c6bb2f2c\"></span></span></div></td><td><div id=\"pcv-ka0RK7\"> 64 ГБ<!-- --></div></td></tr>, <tr><td><div class=\"dots\"><span> Количество каналов <span id=\"as-e3a286bf81fdf768a450694ed8654be2\"></span></span></div></td><td><div id=\"pcv-43MBD5\"> 2<!-- --></div></td></tr>, <tr><td><div class=\"dots\"><span> Минимальная частота оперативной памяти <span id=\"as-86d5bbadc5e582bd4d8f7149bfcad9d9\"></span></span></div></td><td><div id=\"pcv-lyHRBx\"> 800 МГц<!-- --></div></td></tr>, <tr><td><div class=\"dots\"><span> Максимальная частота оперативной памяти <span id=\"as-11591c7a03ae38774b2891e92d792ef8\"></span></span></div></td><td><div id=\"pcv-Ao8bsa\"> 2133 МГц<!-- --></div></td></tr>, <tr><td><div class=\"dots\"><span> Поддержка режима ECC <span id=\"as-4ac21071edecbddffae3149f1d6f5428\"></span></span></div></td><td><div id=\"pcv-DFIaHo\"> есть<!-- --></div></td></tr>, <tr><td class=\"table-part\" colspan=\"2\">Тепловые характеристики</td></tr>, <tr><td><div class=\"dots\"><span> Тепловыделение (TDP) <span id=\"as-3470e6e879b53e181d17e58bbfb780bc\"></span></span></div></td><td><div id=\"pcv-DvXKg4\"> 51 Вт<!-- --></div></td></tr>, <tr><td><div class=\"dots\"><span> Настраиваемая величина TDP (cTDP) <span id=\"as-4e2dc6004d5d297a7108d40b30874104\"></span></span></div></td><td><div id=\"pcv-r4-vJt\"> нет<!-- --></div></td></tr>, <tr><td><div class=\"dots\"><span> Максимальная температура процессора <span id=\"as-21c9bd6b0bb0d319e9719f04d9166b55\"></span></span></div></td><td><div id=\"pcv--RzrDh\"> 70 °C<!-- --></div></td></tr>, <tr><td class=\"table-part\" colspan=\"2\">Графическое ядро</td></tr>, <tr><td><div class=\"dots\"><span> Интегрированное графическое ядро <span id=\"as-6c925b5e68b0ccd35730ea2e01bfd4fc\"></span></span></div></td><td><div id=\"pcv-6_Y7hX\"> есть<!-- --></div></td></tr>, <tr><td><div class=\"dots\"><span> Модель графического процессора <span id=\"as-4ffee0857f0664162f4fe75a16d68b10\"></span></span></div></td><td><div id=\"pcv-ztbwlh\"> Intel HD Graphics 610<!-- --></div></td></tr>, <tr><td><div class=\"dots\"><span> Максимальная частота графического ядра <span id=\"as-1ed1bbd8251ba51ef0db089e149b37b9\"></span></span></div></td><td><div id=\"pcv-QUrQrC\"> 1050 МГц<!-- --></div></td></tr>, <tr><td><div class=\"dots\"><span> Исполнительные блоки <span id=\"as-019d9d64b4b069fe220cba894e8f5f22\"></span></span></div></td><td><div id=\"pcv-7liGAA\"> 12<!-- --></div></td></tr>, <tr><td><div class=\"dots\"><span> Потоковые процессоры (Shading Units) <span id=\"as-a4f980f476c46e09957decd675fc9b3f\"></span></span></div></td><td><div id=\"pcv-PZT9pa\"> 96<!-- --></div></td></tr>, <tr><td class=\"table-part\" colspan=\"2\">Шина и контроллеры</td></tr>, <tr><td><div class=\"dots\"><span> Системная шина <span id=\"as-f73f63937f52ab3bd730f424f0f49169\"></span></span></div></td><td><div id=\"pcv-6FjF4S\"> DMI 3.0<!-- --></div></td></tr>, <tr><td><div class=\"dots\"><span> Пропускная способность шины <span id=\"as-48d8345d7c9c5877ecb293e05d6740e4\"></span></span></div></td><td><div id=\"pcv-I9ppcW\"> 8 GT/s<!-- --></div></td></tr>, <tr><td><div class=\"dots\"><span> Встроенный контроллер PCI Express <span id=\"as-5177e589d93f800bc82bd8a228a1c7a3\"></span></span></div></td><td><div id=\"pcv-NwBy7U\"> PCI-E 3.0<!-- --></div></td></tr>, <tr><td><div class=\"dots\"><span> Число линий PCI Express <span id=\"as-8de5f4ad9e63fce571e6d380e9d3b96d\"></span></span></div></td><td><div id=\"pcv-_3mtq1\"> 16<!-- --></div></td></tr>, <tr><td class=\"table-part\" colspan=\"2\">Команды, инструкции, технологии</td></tr>, <tr><td><div class=\"dots\"><span> Поддержка 64-битного набора команд <span id=\"as-0dcef21111ef9164f0cb4274a25a939f\"></span></span></div></td><td><div id=\"pcv-zDnrQx\"> EM64T<!-- --></div></td></tr>, <tr><td><div class=\"dots\"><span> Многопоточность <span id=\"as-772c65fc19eadb7afbca0c82099b0352\"></span></span></div></td><td><div id=\"pcv-1e4Vys\"> нет<!-- --></div></td></tr>, <tr><td><div class=\"dots\"><span> Технология виртуализации <span id=\"as-e8f5b820c4de40f4881fe0c57c6d0c68\"></span></span></div></td><td><div id=\"pcv-JsWYZ5\"> есть<!-- --></div></td></tr>, <tr><td><div class=\"dots\"><span> Технология повышения частоты процессора <span id=\"as-177f07289cccc88019876039368e7766\"></span></span></div></td><td><div id=\"pcv-ghU36n\"> нет<!-- --></div></td></tr>, <tr><td><div class=\"dots\"><span> Технология энергосбережения <span id=\"as-7ad724985e9885355b51177fed2b7901\"></span></span></div></td><td><div id=\"pcv-wlQuQC\"> Enhanced SpeedStep<!-- --></div></td></tr>, <tr><td><div class=\"dots\"><span> Набор инструкций и команд <span id=\"as-9b91b158aa845cd2f25988577f6d4ad2\"></span></span></div></td><td><div id=\"pcv-DJLo4y\"> SSE4.1, MMX, SSE, SSE2, SSE3, SSSE3, SSE4, SSE4.2, AES, NX, VT-x, XD, EM64T<!-- --></div></td></tr>]\n"
     ]
    }
   ],
   "source": [
    "import requests\n",
    "import bs4\n",
    "\n",
    "\n",
    "#要抓取的目标页码地址\n",
    "url = 'https://www.dns-shop.ru/product/4e489f4faf9d3330/processor-intel-celeron-g3930-oem/characteristics/' \n",
    "headers={'User-Agent':'Mozilla/5.0 (Windows NT 5.1) AppleWebKit/537.36 (KHTML, like Gecko) Chrome/47.0.2526.80 Safari/537.36'}\n",
    "\n",
    "#抓取页码内容，返回响应对象\n",
    "response = requests.get(url,headers=headers)\n",
    "\n",
    "#查看响应状态码\n",
    "status_code = response.status_code\n",
    "\n",
    "#使用BeautifulSoup解析代码,并锁定页码指定标签内容\n",
    "content = bs4.BeautifulSoup(response.content.decode(\"utf-8\"), \"lxml\")\n",
    "element = content.find_all(\"tr\")\n",
    "\n",
    "print(status_code)\n",
    "print(element)"
   ]
  },
  {
   "cell_type": "code",
   "execution_count": 27,
   "metadata": {},
   "outputs": [
    {
     "name": "stdout",
     "output_type": "stream",
     "text": [
      "200\n",
      "[<tr><td class=\"table-part\" colspan=\"2\">Заводские данные</td></tr>, <tr><td><div class=\"dots\"><span> Гарантия </span></div></td><td><div id=\"pcv-3xOYzr\"> 12 мес.<!-- --></div></td></tr>, <tr><td><div class=\"dots\"><span> Страна-производитель <span data-characteristic-hint=\"Страна производитель может отличаться от заявленной\" data-characteristic-title=\"Страна-производитель\"></span></span></div></td><td><div id=\"pcv-s3atCA\"> Китай<!-- --></div></td></tr>, <tr><td class=\"table-part\" colspan=\"2\">Общие параметры</td></tr>, <tr><td><div class=\"dots\"><span> Модель <span id=\"as-3d403bf45a16824ad14a7e6d9cf52b37\"></span></span></div></td><td><div id=\"pcv-AiN0a2\"> Arctic Cooling MX-4 (2019)<!-- --></div></td></tr>, <tr><td class=\"table-part\" colspan=\"2\">Характеристики термоинтерфейса</td></tr>, <tr><td><div class=\"dots\"><span> Теплопроводность <span id=\"as-7912287fcec38e0fbde738a39e2f066a\"></span></span></div></td><td><div id=\"pcv-gLToex\"> 8.5 Вт/мК<!-- --></div></td></tr>, <tr><td><div class=\"dots\"><span> Состав термоинтерфейса <span id=\"as-897441e15eb2aec9775c5e9d0fbedbab\"></span></span></div></td><td><div id=\"pcv-37yuD5\"> термопаста<!-- --></div></td></tr>, <tr><td><div class=\"dots\"><span> Вес термопасты (граммы) <span id=\"as-e35b88c6e19b5ff90342acefa8448a2f\"></span></span></div></td><td><div id=\"pcv-PA8QlE\"> 4 г<!-- --></div></td></tr>, <tr><td><div class=\"dots\"><span> Упаковка термопасты <span id=\"as-92a12838ab2d87985d735301c4d5387b\"></span></span></div></td><td><div id=\"pcv-LwG07e\"> шприц<!-- --></div></td></tr>, <tr><td><div class=\"dots\"><span> Количество термопрокладок <span id=\"as-05e4b46a0ed693ae1f02a75b9ef236bf\"></span></span></div></td><td><div id=\"pcv-B2_lrA\"> нет<!-- --></div></td></tr>, <tr><td><div class=\"dots\"><span> Максимальная рабочая температура <span id=\"as-c77e60acf67116c6adeb93fd57bdd8b4\"></span></span></div></td><td><div id=\"pcv-Z0Ui3S\"> +160°C<!-- --></div></td></tr>, <tr><td><div class=\"dots\"><span> Минимальная рабочая температура <span id=\"as-1b1311fe2960dfc163ee2a799d2a6c15\"></span></span></div></td><td><div id=\"pcv-d9sAKL\"> -50°C<!-- --></div></td></tr>]\n"
     ]
    }
   ],
   "source": [
    "#要抓取的目标页码地址\n",
    "url = 'https://www.dns-shop.ru/product/84be09f917d53332/termopasta-arctic-cooling-mx-4-2019/characteristics/' \n",
    "headers={'User-Agent':'Mozilla/5.0 (Windows NT 5.1) AppleWebKit/537.36 (KHTML, like Gecko) Chrome/47.0.2526.80 Safari/537.36'}\n",
    "\n",
    "#抓取页码内容，返回响应对象\n",
    "response = requests.get(url,headers=headers)\n",
    "\n",
    "#查看响应状态码\n",
    "status_code = response.status_code\n",
    "\n",
    "#使用BeautifulSoup解析代码,并锁定页码指定标签内容\n",
    "content = bs4.BeautifulSoup(response.content.decode(\"utf-8\"), \"lxml\")\n",
    "element = content.find_all(\"tr\")\n",
    "\n",
    "print(status_code)\n",
    "print(element)"
   ]
  },
  {
   "cell_type": "code",
   "execution_count": null,
   "metadata": {},
   "outputs": [],
   "source": []
  }
 ],
 "metadata": {
  "kernelspec": {
   "display_name": "Python 3",
   "language": "python",
   "name": "python3"
  },
  "language_info": {
   "codemirror_mode": {
    "name": "ipython",
    "version": 3
   },
   "file_extension": ".py",
   "mimetype": "text/x-python",
   "name": "python",
   "nbconvert_exporter": "python",
   "pygments_lexer": "ipython3",
   "version": "3.8.5"
  }
 },
 "nbformat": 4,
 "nbformat_minor": 5
}
